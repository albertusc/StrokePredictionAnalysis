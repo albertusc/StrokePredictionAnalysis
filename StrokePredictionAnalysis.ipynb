{
 "cells": [
  {
   "cell_type": "code",
   "execution_count": null,
   "id": "a09c178c",
   "metadata": {},
   "outputs": [],
   "source": [
    "#Made by Albertusc \"https://github.com/albertusc\""
   ]
  },
  {
   "cell_type": "markdown",
   "id": "cebd3409",
   "metadata": {},
   "source": [
    "##### Importing"
   ]
  },
  {
   "cell_type": "code",
   "execution_count": 1,
   "id": "431fe2fe",
   "metadata": {},
   "outputs": [],
   "source": [
    "import pandas as pd\n",
    "from sklearn.model_selection import train_test_split\n",
    "from sklearn.metrics import accuracy_score, classification_report, confusion_matrix\n",
    "from sklearn.tree import DecisionTreeClassifier\n",
    "from sklearn.svm import SVC\n",
    "from sklearn.preprocessing import StandardScaler, LabelEncoder\n",
    "from imblearn.over_sampling import SMOTE\n",
    "from sklearn.ensemble import RandomForestClassifier\n",
    "import matplotlib.pyplot as plt\n",
    "import seaborn as sns\n",
    "import numpy as np"
   ]
  },
  {
   "cell_type": "code",
   "execution_count": 51,
   "id": "982441cf",
   "metadata": {},
   "outputs": [
    {
     "data": {
      "text/html": [
       "<div>\n",
       "<style scoped>\n",
       "    .dataframe tbody tr th:only-of-type {\n",
       "        vertical-align: middle;\n",
       "    }\n",
       "\n",
       "    .dataframe tbody tr th {\n",
       "        vertical-align: top;\n",
       "    }\n",
       "\n",
       "    .dataframe thead th {\n",
       "        text-align: right;\n",
       "    }\n",
       "</style>\n",
       "<table border=\"1\" class=\"dataframe\">\n",
       "  <thead>\n",
       "    <tr style=\"text-align: right;\">\n",
       "      <th></th>\n",
       "      <th>gender</th>\n",
       "      <th>age</th>\n",
       "      <th>hypertension</th>\n",
       "      <th>heart_disease</th>\n",
       "      <th>ever_married</th>\n",
       "      <th>work_type</th>\n",
       "      <th>Residence_type</th>\n",
       "      <th>avg_glucose_level</th>\n",
       "      <th>bmi</th>\n",
       "      <th>smoking_status</th>\n",
       "      <th>stroke</th>\n",
       "    </tr>\n",
       "  </thead>\n",
       "  <tbody>\n",
       "    <tr>\n",
       "      <th>0</th>\n",
       "      <td>Male</td>\n",
       "      <td>67.0</td>\n",
       "      <td>0</td>\n",
       "      <td>1</td>\n",
       "      <td>Yes</td>\n",
       "      <td>Private</td>\n",
       "      <td>Urban</td>\n",
       "      <td>228.69</td>\n",
       "      <td>36.6</td>\n",
       "      <td>formerly smoked</td>\n",
       "      <td>1</td>\n",
       "    </tr>\n",
       "    <tr>\n",
       "      <th>1</th>\n",
       "      <td>Male</td>\n",
       "      <td>80.0</td>\n",
       "      <td>0</td>\n",
       "      <td>1</td>\n",
       "      <td>Yes</td>\n",
       "      <td>Private</td>\n",
       "      <td>Rural</td>\n",
       "      <td>105.92</td>\n",
       "      <td>32.5</td>\n",
       "      <td>never smoked</td>\n",
       "      <td>1</td>\n",
       "    </tr>\n",
       "    <tr>\n",
       "      <th>2</th>\n",
       "      <td>Female</td>\n",
       "      <td>49.0</td>\n",
       "      <td>0</td>\n",
       "      <td>0</td>\n",
       "      <td>Yes</td>\n",
       "      <td>Private</td>\n",
       "      <td>Urban</td>\n",
       "      <td>171.23</td>\n",
       "      <td>34.4</td>\n",
       "      <td>smokes</td>\n",
       "      <td>1</td>\n",
       "    </tr>\n",
       "    <tr>\n",
       "      <th>3</th>\n",
       "      <td>Female</td>\n",
       "      <td>79.0</td>\n",
       "      <td>1</td>\n",
       "      <td>0</td>\n",
       "      <td>Yes</td>\n",
       "      <td>Self-employed</td>\n",
       "      <td>Rural</td>\n",
       "      <td>174.12</td>\n",
       "      <td>24.0</td>\n",
       "      <td>never smoked</td>\n",
       "      <td>1</td>\n",
       "    </tr>\n",
       "    <tr>\n",
       "      <th>4</th>\n",
       "      <td>Male</td>\n",
       "      <td>81.0</td>\n",
       "      <td>0</td>\n",
       "      <td>0</td>\n",
       "      <td>Yes</td>\n",
       "      <td>Private</td>\n",
       "      <td>Urban</td>\n",
       "      <td>186.21</td>\n",
       "      <td>29.0</td>\n",
       "      <td>formerly smoked</td>\n",
       "      <td>1</td>\n",
       "    </tr>\n",
       "    <tr>\n",
       "      <th>...</th>\n",
       "      <td>...</td>\n",
       "      <td>...</td>\n",
       "      <td>...</td>\n",
       "      <td>...</td>\n",
       "      <td>...</td>\n",
       "      <td>...</td>\n",
       "      <td>...</td>\n",
       "      <td>...</td>\n",
       "      <td>...</td>\n",
       "      <td>...</td>\n",
       "      <td>...</td>\n",
       "    </tr>\n",
       "    <tr>\n",
       "      <th>4976</th>\n",
       "      <td>Male</td>\n",
       "      <td>41.0</td>\n",
       "      <td>0</td>\n",
       "      <td>0</td>\n",
       "      <td>No</td>\n",
       "      <td>Private</td>\n",
       "      <td>Rural</td>\n",
       "      <td>70.15</td>\n",
       "      <td>29.8</td>\n",
       "      <td>formerly smoked</td>\n",
       "      <td>0</td>\n",
       "    </tr>\n",
       "    <tr>\n",
       "      <th>4977</th>\n",
       "      <td>Male</td>\n",
       "      <td>40.0</td>\n",
       "      <td>0</td>\n",
       "      <td>0</td>\n",
       "      <td>Yes</td>\n",
       "      <td>Private</td>\n",
       "      <td>Urban</td>\n",
       "      <td>191.15</td>\n",
       "      <td>31.1</td>\n",
       "      <td>smokes</td>\n",
       "      <td>0</td>\n",
       "    </tr>\n",
       "    <tr>\n",
       "      <th>4978</th>\n",
       "      <td>Female</td>\n",
       "      <td>45.0</td>\n",
       "      <td>1</td>\n",
       "      <td>0</td>\n",
       "      <td>Yes</td>\n",
       "      <td>Govt_job</td>\n",
       "      <td>Rural</td>\n",
       "      <td>95.02</td>\n",
       "      <td>31.8</td>\n",
       "      <td>smokes</td>\n",
       "      <td>0</td>\n",
       "    </tr>\n",
       "    <tr>\n",
       "      <th>4979</th>\n",
       "      <td>Male</td>\n",
       "      <td>40.0</td>\n",
       "      <td>0</td>\n",
       "      <td>0</td>\n",
       "      <td>Yes</td>\n",
       "      <td>Private</td>\n",
       "      <td>Rural</td>\n",
       "      <td>83.94</td>\n",
       "      <td>30.0</td>\n",
       "      <td>smokes</td>\n",
       "      <td>0</td>\n",
       "    </tr>\n",
       "    <tr>\n",
       "      <th>4980</th>\n",
       "      <td>Female</td>\n",
       "      <td>80.0</td>\n",
       "      <td>1</td>\n",
       "      <td>0</td>\n",
       "      <td>Yes</td>\n",
       "      <td>Private</td>\n",
       "      <td>Urban</td>\n",
       "      <td>83.75</td>\n",
       "      <td>29.1</td>\n",
       "      <td>never smoked</td>\n",
       "      <td>0</td>\n",
       "    </tr>\n",
       "  </tbody>\n",
       "</table>\n",
       "<p>4981 rows × 11 columns</p>\n",
       "</div>"
      ],
      "text/plain": [
       "      gender   age  hypertension  heart_disease ever_married      work_type  \\\n",
       "0       Male  67.0             0              1          Yes        Private   \n",
       "1       Male  80.0             0              1          Yes        Private   \n",
       "2     Female  49.0             0              0          Yes        Private   \n",
       "3     Female  79.0             1              0          Yes  Self-employed   \n",
       "4       Male  81.0             0              0          Yes        Private   \n",
       "...      ...   ...           ...            ...          ...            ...   \n",
       "4976    Male  41.0             0              0           No        Private   \n",
       "4977    Male  40.0             0              0          Yes        Private   \n",
       "4978  Female  45.0             1              0          Yes       Govt_job   \n",
       "4979    Male  40.0             0              0          Yes        Private   \n",
       "4980  Female  80.0             1              0          Yes        Private   \n",
       "\n",
       "     Residence_type  avg_glucose_level   bmi   smoking_status  stroke  \n",
       "0             Urban             228.69  36.6  formerly smoked       1  \n",
       "1             Rural             105.92  32.5     never smoked       1  \n",
       "2             Urban             171.23  34.4           smokes       1  \n",
       "3             Rural             174.12  24.0     never smoked       1  \n",
       "4             Urban             186.21  29.0  formerly smoked       1  \n",
       "...             ...                ...   ...              ...     ...  \n",
       "4976          Rural              70.15  29.8  formerly smoked       0  \n",
       "4977          Urban             191.15  31.1           smokes       0  \n",
       "4978          Rural              95.02  31.8           smokes       0  \n",
       "4979          Rural              83.94  30.0           smokes       0  \n",
       "4980          Urban              83.75  29.1     never smoked       0  \n",
       "\n",
       "[4981 rows x 11 columns]"
      ]
     },
     "execution_count": 51,
     "metadata": {},
     "output_type": "execute_result"
    }
   ],
   "source": [
    "df = pd.read_csv('brain_stroke.csv')"
   ]
  },
  {
   "cell_type": "code",
   "execution_count": 3,
   "id": "7de9ac8f",
   "metadata": {},
   "outputs": [
    {
     "name": "stdout",
     "output_type": "stream",
     "text": [
      "   gender   age  hypertension  heart_disease ever_married      work_type  \\\n",
      "0    Male  67.0             0              1          Yes        Private   \n",
      "1    Male  80.0             0              1          Yes        Private   \n",
      "2  Female  49.0             0              0          Yes        Private   \n",
      "3  Female  79.0             1              0          Yes  Self-employed   \n",
      "4    Male  81.0             0              0          Yes        Private   \n",
      "\n",
      "  Residence_type  avg_glucose_level   bmi   smoking_status  stroke  \n",
      "0          Urban             228.69  36.6  formerly smoked       1  \n",
      "1          Rural             105.92  32.5     never smoked       1  \n",
      "2          Urban             171.23  34.4           smokes       1  \n",
      "3          Rural             174.12  24.0     never smoked       1  \n",
      "4          Urban             186.21  29.0  formerly smoked       1  \n"
     ]
    }
   ],
   "source": [
    "print(df.head())"
   ]
  },
  {
   "cell_type": "code",
   "execution_count": 4,
   "id": "55a67534",
   "metadata": {},
   "outputs": [
    {
     "name": "stdout",
     "output_type": "stream",
     "text": [
      "<class 'pandas.core.frame.DataFrame'>\n",
      "RangeIndex: 4981 entries, 0 to 4980\n",
      "Data columns (total 11 columns):\n",
      " #   Column             Non-Null Count  Dtype  \n",
      "---  ------             --------------  -----  \n",
      " 0   gender             4981 non-null   object \n",
      " 1   age                4981 non-null   float64\n",
      " 2   hypertension       4981 non-null   int64  \n",
      " 3   heart_disease      4981 non-null   int64  \n",
      " 4   ever_married       4981 non-null   object \n",
      " 5   work_type          4981 non-null   object \n",
      " 6   Residence_type     4981 non-null   object \n",
      " 7   avg_glucose_level  4981 non-null   float64\n",
      " 8   bmi                4981 non-null   float64\n",
      " 9   smoking_status     4981 non-null   object \n",
      " 10  stroke             4981 non-null   int64  \n",
      "dtypes: float64(3), int64(3), object(5)\n",
      "memory usage: 428.2+ KB\n",
      "None\n"
     ]
    }
   ],
   "source": [
    "print(df.info())"
   ]
  },
  {
   "cell_type": "code",
   "execution_count": 5,
   "id": "16aa4dec",
   "metadata": {},
   "outputs": [
    {
     "name": "stdout",
     "output_type": "stream",
     "text": [
      "               age  hypertension  heart_disease  avg_glucose_level  \\\n",
      "count  4981.000000   4981.000000    4981.000000        4981.000000   \n",
      "mean     43.419859      0.096165       0.055210         105.943562   \n",
      "std      22.662755      0.294848       0.228412          45.075373   \n",
      "min       0.080000      0.000000       0.000000          55.120000   \n",
      "25%      25.000000      0.000000       0.000000          77.230000   \n",
      "50%      45.000000      0.000000       0.000000          91.850000   \n",
      "75%      61.000000      0.000000       0.000000         113.860000   \n",
      "max      82.000000      1.000000       1.000000         271.740000   \n",
      "\n",
      "               bmi       stroke  \n",
      "count  4981.000000  4981.000000  \n",
      "mean     28.498173     0.049789  \n",
      "std       6.790464     0.217531  \n",
      "min      14.000000     0.000000  \n",
      "25%      23.700000     0.000000  \n",
      "50%      28.100000     0.000000  \n",
      "75%      32.600000     0.000000  \n",
      "max      48.900000     1.000000  \n"
     ]
    }
   ],
   "source": [
    "print(df.describe())"
   ]
  },
  {
   "cell_type": "code",
   "execution_count": 6,
   "id": "64a00e36",
   "metadata": {},
   "outputs": [
    {
     "name": "stdout",
     "output_type": "stream",
     "text": [
      "gender               0\n",
      "age                  0\n",
      "hypertension         0\n",
      "heart_disease        0\n",
      "ever_married         0\n",
      "work_type            0\n",
      "Residence_type       0\n",
      "avg_glucose_level    0\n",
      "bmi                  0\n",
      "smoking_status       0\n",
      "stroke               0\n",
      "dtype: int64\n"
     ]
    }
   ],
   "source": [
    "print(df.isnull().sum())"
   ]
  },
  {
   "cell_type": "markdown",
   "id": "81eb44b2",
   "metadata": {},
   "source": [
    "##### Data Preprocessing"
   ]
  },
  {
   "cell_type": "code",
   "execution_count": 7,
   "id": "c865e37e",
   "metadata": {},
   "outputs": [],
   "source": [
    "df = pd.get_dummies(df, columns=['gender', 'smoking_status'])"
   ]
  },
  {
   "cell_type": "code",
   "execution_count": 8,
   "id": "913fd914",
   "metadata": {},
   "outputs": [],
   "source": [
    "df['ever_married'] = df['ever_married'].map({'Yes': 1, 'No': 0})"
   ]
  },
  {
   "cell_type": "code",
   "execution_count": 9,
   "id": "5fa210b4",
   "metadata": {},
   "outputs": [],
   "source": [
    "work_type_mapping = {'Private': 0, 'Self-employed': 1, 'Govt_job': 2, 'children': 3, 'Never_worked': 4}"
   ]
  },
  {
   "cell_type": "code",
   "execution_count": 10,
   "id": "1ee10285",
   "metadata": {},
   "outputs": [],
   "source": [
    "df['work_type'] = df['work_type'].map(work_type_mapping)"
   ]
  },
  {
   "cell_type": "code",
   "execution_count": 11,
   "id": "95d504b1",
   "metadata": {},
   "outputs": [],
   "source": [
    "residence_type_mapping = {'Urban': 0, 'Rural': 1}"
   ]
  },
  {
   "cell_type": "code",
   "execution_count": 12,
   "id": "6cf383b0",
   "metadata": {},
   "outputs": [],
   "source": [
    "df['Residence_type'] = df['Residence_type'].map(residence_type_mapping)"
   ]
  },
  {
   "cell_type": "code",
   "execution_count": 13,
   "id": "e69a2d32",
   "metadata": {},
   "outputs": [],
   "source": [
    "correlation_matrix = df.corr()"
   ]
  },
  {
   "cell_type": "code",
   "execution_count": 14,
   "id": "b6e52e31",
   "metadata": {},
   "outputs": [
    {
     "data": {
      "text/plain": [
       "['age',\n",
       " 'hypertension',\n",
       " 'heart_disease',\n",
       " 'ever_married',\n",
       " 'avg_glucose_level',\n",
       " 'bmi',\n",
       " 'stroke',\n",
       " 'gender_Male',\n",
       " 'smoking_status_formerly smoked',\n",
       " 'smoking_status_smokes']"
      ]
     },
     "execution_count": 14,
     "metadata": {},
     "output_type": "execute_result"
    }
   ],
   "source": [
    "positive_corr_columns = correlation_matrix[correlation_matrix['stroke'] > 0].index.tolist()\n",
    "positive_corr_columns"
   ]
  },
  {
   "cell_type": "code",
   "execution_count": 15,
   "id": "5d9bfb06",
   "metadata": {
    "scrolled": true
   },
   "outputs": [
    {
     "data": {
      "text/plain": [
       "['work_type',\n",
       " 'Residence_type',\n",
       " 'gender_Female',\n",
       " 'smoking_status_Unknown',\n",
       " 'smoking_status_never smoked']"
      ]
     },
     "execution_count": 15,
     "metadata": {},
     "output_type": "execute_result"
    }
   ],
   "source": [
    "negative_corr_columns = correlation_matrix[correlation_matrix['stroke'] < 0].index.tolist()\n",
    "negative_corr_columns"
   ]
  },
  {
   "cell_type": "code",
   "execution_count": 16,
   "id": "0cbe3de2",
   "metadata": {},
   "outputs": [],
   "source": [
    "df_minority = df[df['stroke'] == 1]\n",
    "df = pd.concat([df, df_minority, df_minority], ignore_index=True)"
   ]
  },
  {
   "cell_type": "code",
   "execution_count": 17,
   "id": "f5decfe2",
   "metadata": {},
   "outputs": [
    {
     "data": {
      "text/plain": [
       "<Axes: >"
      ]
     },
     "execution_count": 17,
     "metadata": {},
     "output_type": "execute_result"
    },
    {
     "data": {
      "image/png": "[encoded data removed]",
      "text/plain": [
       "<Figure size 500x500 with 1 Axes>"
      ]
     },
     "metadata": {},
     "output_type": "display_data"
    }
   ],
   "source": [
    "df[['age', 'avg_glucose_level', 'bmi']].plot(kind='box', figsize=(5,5))"
   ]
  },
  {
   "cell_type": "code",
   "execution_count": 18,
   "id": "6f5ecbec",
   "metadata": {},
   "outputs": [],
   "source": [
    "Q1 = df[['avg_glucose_level', 'bmi']].quantile(0.25)\n",
    "\n",
    "Q3 = df[['avg_glucose_level', 'bmi']].quantile(0.75)\n",
    "\n",
    "IQR = Q3 - Q1\n",
    "\n",
    "lower_bound = Q1 - 1.5 * IQR\n",
    "\n",
    "upper_bound = Q3 + 1.5 * IQR\n",
    "\n",
    "stroke_filtered = df[(df[['avg_glucose_level', 'bmi']] >= lower_bound) & (df[['avg_glucose_level', 'bmi']] <= upper_bound)]"
   ]
  },
  {
   "cell_type": "code",
   "execution_count": 19,
   "id": "c557f20d",
   "metadata": {},
   "outputs": [
    {
     "data": {
      "text/plain": [
       "<Axes: >"
      ]
     },
     "execution_count": 19,
     "metadata": {},
     "output_type": "execute_result"
    },
    {
     "data": {
      "image/png": "[encoded data removed]",
      "text/plain": [
       "<Figure size 500x500 with 1 Axes>"
      ]
     },
     "metadata": {},
     "output_type": "display_data"
    }
   ],
   "source": [
    "stroke_filtered[['avg_glucose_level', 'bmi']].plot(kind='box', figsize=(5,5))"
   ]
  },
  {
   "cell_type": "code",
   "execution_count": 20,
   "id": "63938b94",
   "metadata": {},
   "outputs": [],
   "source": [
    "label_encoder = LabelEncoder()\n",
    "df['work_type_encoded'] = label_encoder.fit_transform(df['work_type'])"
   ]
  },
  {
   "cell_type": "code",
   "execution_count": 21,
   "id": "881e493e",
   "metadata": {},
   "outputs": [],
   "source": [
    "age_grouped = df.groupby('age')['stroke'].mean().reset_index()\n",
    "age_grouped.columns = ['age', 'mean_stroke_rate']"
   ]
  },
  {
   "cell_type": "code",
   "execution_count": 46,
   "id": "abab4d2b",
   "metadata": {},
   "outputs": [],
   "source": [
    "def bin_age(age):\n",
    "    if age < 18:\n",
    "        return '0-17'\n",
    "    elif 18 <= age < 35:\n",
    "        return '18-34'\n",
    "    elif 35 <= age < 50:\n",
    "        return '35-49'\n",
    "    elif 50 <= age < 65:\n",
    "        return '50-64'\n",
    "    else:\n",
    "        return '65+'"
   ]
  },
  {
   "cell_type": "code",
   "execution_count": 47,
   "id": "4d26f71a",
   "metadata": {},
   "outputs": [],
   "source": [
    "df['age_group'] = df['age'].apply(bin_age)"
   ]
  },
  {
   "cell_type": "code",
   "execution_count": 50,
   "id": "f209ebed",
   "metadata": {},
   "outputs": [
    {
     "data": {
      "text/html": [
       "<div>\n",
       "<style scoped>\n",
       "    .dataframe tbody tr th:only-of-type {\n",
       "        vertical-align: middle;\n",
       "    }\n",
       "\n",
       "    .dataframe tbody tr th {\n",
       "        vertical-align: top;\n",
       "    }\n",
       "\n",
       "    .dataframe thead th {\n",
       "        text-align: right;\n",
       "    }\n",
       "</style>\n",
       "<table border=\"1\" class=\"dataframe\">\n",
       "  <thead>\n",
       "    <tr style=\"text-align: right;\">\n",
       "      <th></th>\n",
       "      <th>age</th>\n",
       "      <th>age_group</th>\n",
       "    </tr>\n",
       "  </thead>\n",
       "  <tbody>\n",
       "    <tr>\n",
       "      <th>0</th>\n",
       "      <td>67.0</td>\n",
       "      <td>65+</td>\n",
       "    </tr>\n",
       "    <tr>\n",
       "      <th>1</th>\n",
       "      <td>80.0</td>\n",
       "      <td>65+</td>\n",
       "    </tr>\n",
       "    <tr>\n",
       "      <th>2</th>\n",
       "      <td>49.0</td>\n",
       "      <td>35-49</td>\n",
       "    </tr>\n",
       "    <tr>\n",
       "      <th>3</th>\n",
       "      <td>79.0</td>\n",
       "      <td>65+</td>\n",
       "    </tr>\n",
       "    <tr>\n",
       "      <th>4</th>\n",
       "      <td>81.0</td>\n",
       "      <td>65+</td>\n",
       "    </tr>\n",
       "    <tr>\n",
       "      <th>...</th>\n",
       "      <td>...</td>\n",
       "      <td>...</td>\n",
       "    </tr>\n",
       "    <tr>\n",
       "      <th>5472</th>\n",
       "      <td>79.0</td>\n",
       "      <td>65+</td>\n",
       "    </tr>\n",
       "    <tr>\n",
       "      <th>5473</th>\n",
       "      <td>74.0</td>\n",
       "      <td>65+</td>\n",
       "    </tr>\n",
       "    <tr>\n",
       "      <th>5474</th>\n",
       "      <td>76.0</td>\n",
       "      <td>65+</td>\n",
       "    </tr>\n",
       "    <tr>\n",
       "      <th>5475</th>\n",
       "      <td>74.0</td>\n",
       "      <td>65+</td>\n",
       "    </tr>\n",
       "    <tr>\n",
       "      <th>5476</th>\n",
       "      <td>71.0</td>\n",
       "      <td>65+</td>\n",
       "    </tr>\n",
       "  </tbody>\n",
       "</table>\n",
       "<p>5477 rows × 2 columns</p>\n",
       "</div>"
      ],
      "text/plain": [
       "       age age_group\n",
       "0     67.0       65+\n",
       "1     80.0       65+\n",
       "2     49.0     35-49\n",
       "3     79.0       65+\n",
       "4     81.0       65+\n",
       "...    ...       ...\n",
       "5472  79.0       65+\n",
       "5473  74.0       65+\n",
       "5474  76.0       65+\n",
       "5475  74.0       65+\n",
       "5476  71.0       65+\n",
       "\n",
       "[5477 rows x 2 columns]"
      ]
     },
     "execution_count": 50,
     "metadata": {},
     "output_type": "execute_result"
    }
   ],
   "source": [
    "df[['age', 'age_group']]"
   ]
  },
  {
   "cell_type": "markdown",
   "id": "9183cd98",
   "metadata": {},
   "source": [
    "##### Vissualization"
   ]
  },
  {
   "cell_type": "code",
   "execution_count": 42,
   "id": "85396067",
   "metadata": {},
   "outputs": [
    {
     "data": {
      "image/png": "[encoded data removed]",
      "text/plain": [
       "<Figure size 800x600 with 1 Axes>"
      ]
     },
     "metadata": {},
     "output_type": "display_data"
    }
   ],
   "source": [
    "plt.figure(figsize=(8, 6))\n",
    "df['stroke'].value_counts().plot.pie(autopct='%1.1f%%', colors=['#66b3ff', '#99ff99'])\n",
    "plt.title('Distribution of Stroke Classes')\n",
    "plt.show()"
   ]
  },
  {
   "cell_type": "code",
   "execution_count": 43,
   "id": "1ffca5b1",
   "metadata": {},
   "outputs": [
    {
     "data": {
      "image/png": "[encoded data removed]",
      "text/plain": [
       "<Figure size 1000x600 with 1 Axes>"
      ]
     },
     "metadata": {},
     "output_type": "display_data"
    }
   ],
   "source": [
    "plt.figure(figsize=(10, 6))\n",
    "sns.kdeplot(df[df['stroke'] == 1]['age'], label='Stroke', fill=True, color='#FF9999')\n",
    "sns.kdeplot(df[df['stroke'] == 0]['age'], label='No Stroke', fill=True, color='#66B2FF')\n",
    "plt.title('Kernel Density Estimation of Age by Stroke')\n",
    "plt.xlabel('Age')\n",
    "plt.ylabel('Density')\n",
    "plt.show()"
   ]
  },
  {
   "cell_type": "code",
   "execution_count": 44,
   "id": "9f09dca4",
   "metadata": {},
   "outputs": [
    {
     "data": {
      "image/png": "[encoded data removed]",
      "text/plain": [
       "<Figure size 1000x600 with 1 Axes>"
      ]
     },
     "metadata": {},
     "output_type": "display_data"
    }
   ],
   "source": [
    "plt.figure(figsize=(10, 6))\n",
    "sns.countplot(x='stroke', data=df, hue='stroke', palette='Set2')\n",
    "plt.title('Distribution of Stroke')\n",
    "plt.xlabel('stroke')\n",
    "plt.ylabel('Count')\n",
    "plt.show()"
   ]
  },
  {
   "cell_type": "markdown",
   "id": "17f09396",
   "metadata": {},
   "source": [
    "##### Decision Tree"
   ]
  },
  {
   "cell_type": "code",
   "execution_count": 22,
   "id": "757f2dde",
   "metadata": {},
   "outputs": [],
   "source": [
    "X_dt = df[positive_corr_columns].drop('stroke', axis=1)\n",
    "y_dt = df['stroke']"
   ]
  },
  {
   "cell_type": "code",
   "execution_count": 23,
   "id": "ad91a735",
   "metadata": {},
   "outputs": [],
   "source": [
    "X_train_dt, X_test_dt, y_train_dt, y_test_dt = train_test_split(X_dt, y_dt, test_size=0.2, random_state=50, stratify=y_dt)"
   ]
  },
  {
   "cell_type": "code",
   "execution_count": 24,
   "id": "d4c89dbc",
   "metadata": {},
   "outputs": [],
   "source": [
    "smote_dt = SMOTE(sampling_strategy=0.6)\n",
    "X_train_over_dt, y_train_over_dt = smote_dt.fit_resample(X_train_dt, y_train_dt)"
   ]
  },
  {
   "cell_type": "code",
   "execution_count": 25,
   "id": "3a130a58",
   "metadata": {},
   "outputs": [],
   "source": [
    "scaler_dt = StandardScaler()\n",
    "X_train_over_dt = scaler_dt.fit_transform(X_train_over_dt)\n",
    "X_test_dt = scaler_dt.transform(X_test_dt)"
   ]
  },
  {
   "cell_type": "code",
   "execution_count": 26,
   "id": "248dd413",
   "metadata": {},
   "outputs": [],
   "source": [
    "dt_model = DecisionTreeClassifier(random_state=42, max_depth=15, min_samples_split=2, class_weight='balanced')\n",
    "dt_model.fit(X_train_over_dt, y_train_over_dt)\n",
    "y_pred_dt = dt_model.predict(X_test_dt)"
   ]
  },
  {
   "cell_type": "code",
   "execution_count": 27,
   "id": "5a469af0",
   "metadata": {},
   "outputs": [
    {
     "name": "stdout",
     "output_type": "stream",
     "text": [
      "\n",
      "Decision Tree:\n",
      "Accuracy: 0.9178832116788321\n",
      "Classification Report:\n",
      "               precision    recall  f1-score   support\n",
      "\n",
      "           0       1.00      0.91      0.95       947\n",
      "           1       0.63      0.98      0.76       149\n",
      "\n",
      "    accuracy                           0.92      1096\n",
      "   macro avg       0.81      0.94      0.86      1096\n",
      "weighted avg       0.95      0.92      0.93      1096\n",
      "\n",
      "Confusion Matrix:\n",
      " [[860  87]\n",
      " [  3 146]]\n"
     ]
    }
   ],
   "source": [
    "print(\"\\nDecision Tree:\")\n",
    "print(\"Accuracy:\", accuracy_score(y_test_dt, y_pred_dt))\n",
    "print(\"Classification Report:\\n\", classification_report(y_test_dt, y_pred_dt, zero_division=1))\n",
    "print(\"Confusion Matrix:\\n\", confusion_matrix(y_test_dt, y_pred_dt))"
   ]
  },
  {
   "cell_type": "code",
   "execution_count": 52,
   "id": "17f8a641",
   "metadata": {},
   "outputs": [
    {
     "data": {
      "image/png": "[encoded data removed]",
      "text/plain": [
       "<Figure size 800x600 with 1 Axes>"
      ]
     },
     "metadata": {},
     "output_type": "display_data"
    }
   ],
   "source": [
    "plt.figure(figsize=(8, 6))\n",
    "sns.heatmap(confusion_matrix(y_test_dt, y_pred_dt), annot=True, fmt='d', cmap='Blues', cbar=False)\n",
    "plt.title('Decision Tree')\n",
    "plt.xlabel('Predicted Label')\n",
    "plt.ylabel('True Label')\n",
    "plt.show()"
   ]
  },
  {
   "cell_type": "markdown",
   "id": "c83d3dae",
   "metadata": {},
   "source": [
    "##### Random Forest"
   ]
  },
  {
   "cell_type": "code",
   "execution_count": 28,
   "id": "1260515b",
   "metadata": {},
   "outputs": [],
   "source": [
    "X_rf = df[positive_corr_columns].drop('stroke', axis=1)\n",
    "y_rf = df['stroke']"
   ]
  },
  {
   "cell_type": "code",
   "execution_count": 29,
   "id": "d7700ed9",
   "metadata": {},
   "outputs": [],
   "source": [
    "X_train_rf, X_test_rf, y_train_rf, y_test_rf = train_test_split(X_rf, y_rf, test_size=0.2, random_state=50, stratify=y_rf)"
   ]
  },
  {
   "cell_type": "code",
   "execution_count": 30,
   "id": "78d790e2",
   "metadata": {},
   "outputs": [],
   "source": [
    "smote_rf = SMOTE(sampling_strategy=0.6)\n",
    "X_train_over_rf, y_train_over_rf = smote_rf.fit_resample(X_train_rf, y_train_rf)"
   ]
  },
  {
   "cell_type": "code",
   "execution_count": 31,
   "id": "fcd27718",
   "metadata": {},
   "outputs": [],
   "source": [
    "scaler_rf = StandardScaler()\n",
    "X_train_over_rf = scaler_rf.fit_transform(X_train_over_rf)\n",
    "X_test_rf = scaler_rf.transform(X_test_rf)"
   ]
  },
  {
   "cell_type": "code",
   "execution_count": 32,
   "id": "8466a057",
   "metadata": {},
   "outputs": [],
   "source": [
    "rf_model = RandomForestClassifier(random_state=42, n_estimators=150, max_depth=15, min_samples_split=2, class_weight='balanced')\n",
    "rf_model.fit(X_train_over_rf, y_train_over_rf)\n",
    "y_pred_rf = rf_model.predict(X_test_rf)"
   ]
  },
  {
   "cell_type": "code",
   "execution_count": 33,
   "id": "e7348431",
   "metadata": {},
   "outputs": [
    {
     "name": "stdout",
     "output_type": "stream",
     "text": [
      "\n",
      "Random Forest:\n",
      "Accuracy: 0.9352189781021898\n",
      "Classification Report:\n",
      "               precision    recall  f1-score   support\n",
      "\n",
      "           0       1.00      0.93      0.96       947\n",
      "           1       0.68      0.99      0.81       149\n",
      "\n",
      "    accuracy                           0.94      1096\n",
      "   macro avg       0.84      0.96      0.88      1096\n",
      "weighted avg       0.95      0.94      0.94      1096\n",
      "\n",
      "Confusion Matrix:\n",
      " [[878  69]\n",
      " [  2 147]]\n"
     ]
    }
   ],
   "source": [
    "print(\"\\nRandom Forest:\")\n",
    "print(\"Accuracy:\", accuracy_score(y_test_rf, y_pred_rf))\n",
    "print(\"Classification Report:\\n\", classification_report(y_test_rf, y_pred_rf, zero_division=1))\n",
    "print(\"Confusion Matrix:\\n\", confusion_matrix(y_test_rf, y_pred_rf))"
   ]
  },
  {
   "cell_type": "code",
   "execution_count": 53,
   "id": "5d38f66d",
   "metadata": {},
   "outputs": [
    {
     "data": {
      "image/png": "[encoded data removed]",
      "text/plain": [
       "<Figure size 800x600 with 1 Axes>"
      ]
     },
     "metadata": {},
     "output_type": "display_data"
    }
   ],
   "source": [
    "plt.figure(figsize=(8, 6))\n",
    "sns.heatmap(confusion_matrix(y_test_rf, y_pred_rf), annot=True, fmt='d', cmap='Blues', cbar=False)\n",
    "plt.title('Random Forest')\n",
    "plt.xlabel('Predicted Label')\n",
    "plt.ylabel('True Label')\n",
    "plt.show()"
   ]
  },
  {
   "cell_type": "code",
   "execution_count": null,
   "id": "37ef5fad",
   "metadata": {},
   "outputs": [],
   "source": []
  }
 ],
 "metadata": {
  "kernelspec": {
   "display_name": "Python 3 (ipykernel)",
   "language": "python",
   "name": "python3"
  },
  "language_info": {
   "codemirror_mode": {
    "name": "ipython",
    "version": 3
   },
   "file_extension": ".py",
   "mimetype": "text/x-python",
   "name": "python",
   "nbconvert_exporter": "python",
   "pygments_lexer": "ipython3",
   "version": "3.11.8"
  }
 },
 "nbformat": 4,
 "nbformat_minor": 5
}
